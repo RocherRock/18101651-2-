{
  "nbformat": 4,
  "nbformat_minor": 0,
  "metadata": {
    "colab": {
      "name": "18101651 허석 공학수학2 과제.ipynb",
      "provenance": [],
      "collapsed_sections": []
    },
    "kernelspec": {
      "name": "python3",
      "display_name": "Python 3"
    }
  },
  "cells": [
    {
      "cell_type": "markdown",
      "metadata": {
        "id": "k8u3_xT5Qy4-",
        "colab_type": "text"
      },
      "source": [
        ""
      ]
    },
    {
      "cell_type": "markdown",
      "metadata": {
        "id": "5ijOxFS6Q03n",
        "colab_type": "text"
      },
      "source": [
        "We consider the boundary value problem\n",
        "\n",
        ">$\\begin{align*}\n",
        " u_{rr} +\\frac{2}{r} u_r &+\\frac{1}{r^2}u_{\\phi\\phi} +\\frac{\\cot\\phi}{r^2} u_{\\phi} +\\frac{1}{r^2\\sin^2\\phi}u_{\\theta\\theta} = 0, \\;\\; r < R \\\\ \n",
        " u(R,\\phi,\\theta) &= g(\\phi,\\theta)\\\\ \n",
        "\\end{align*}$\n",
        "\n",
        "in a sphere of radius $R$. (a) Solve this problem by separation of variables, (b) derive $K(r,\\phi,\\theta; R,\\varphi,\\vartheta)$ in the equivalent integral formula:\n",
        "\n",
        ">$\\displaystyle u(r,\\phi,\\theta) = \\int_0^{2\\pi} \\int_0^\\pi K(r,\\phi,\\theta; R,\\varphi,\\vartheta)\\, g(\\varphi,\\vartheta) \\sin\\varphi \\,d\\varphi \\, d\\vartheta$"
      ]
    },
    {
      "cell_type": "markdown",
      "metadata": {
        "id": "oMUpvzGCRFfG",
        "colab_type": "text"
      },
      "source": [
        "(a) 변수분리를 한다\n",
        "\n",
        " $\\displaystyle u(r,\\phi,\\theta) =R(r)Θ(θ)Φ(\\phi)$\n",
        "\n",
        "$R(r)=ar^l+br^{-l-1}$\n",
        "\n",
        "$Θ(θ)=acos(mθ)+bsin(mθ)$\n",
        "\n",
        "$Φ(\\phi)=P_{lm}(cos\\phi)$\n",
        "\n",
        "$u(r,\\phi,\\theta)=\\sum_{l=0}^\\infty \\sum_{m=0}^l (A_lr^l+B_lr^{-l-1})P_{lm}(cos\\phi)[C_mcos(mθ)+D_msin(mθ)]$"
      ]
    },
    {
      "cell_type": "markdown",
      "metadata": {
        "id": "4mBJMbX2W7sy",
        "colab_type": "text"
      },
      "source": [
        "(b) 잘 모르겠습니다"
      ]
    },
    {
      "cell_type": "markdown",
      "metadata": {
        "id": "qsU3dGM_Q8U7",
        "colab_type": "text"
      },
      "source": [
        "We consider the problem\n",
        "\n",
        ">$\\begin{align*}\n",
        " u_{rr} +\\frac{2}{r} u_r &+\\frac{1}{r^2}u_{\\phi\\phi} +\\frac{\\cot\\phi}{r^2} u_{\\phi} +\\frac{1}{r^2\\sin^2\\phi}u_{\\theta\\theta} = -f(r,\\phi,\\theta), \\;\\; r < R \\\\ \n",
        " u(R,\\phi,\\theta) &= 0\\\\ \n",
        "\\end{align*}$\n",
        "\n",
        "(a) solve by taking the finite Fourier Transforms, (b) derive $G(r,\\phi,\\theta; \\rho,\\varphi,\\vartheta)$ in the equivalent integral formula:\n",
        "\n",
        ">$\\displaystyle u(r,\\phi,\\theta) = \\int_0^{2\\pi} \\int_0^\\pi \\int_0^R G(r,\\phi,\\theta; \\rho,\\varphi,\\vartheta)\\, F(\\rho, \\varphi,\\vartheta) \\,\\rho^2 \\sin\\varphi \\,d\\rho \\,d\\varphi \\, d\\vartheta$"
      ]
    },
    {
      "cell_type": "markdown",
      "metadata": {
        "id": "GmlT2RuYbaM-",
        "colab_type": "text"
      },
      "source": [
        "(a)\n",
        "\n",
        "$g(\\phi,\\theta)=0$ 이므로\n",
        "\n",
        "$\\frac{d^2U(r)}{dr^2}+\\frac{2}{r} \\frac{dU(r)}{dr}=-\\mathcal{F}_s[f(r,\\phi,\\theta)]$\n",
        "\n",
        "양변에 $2ln(r)$ 을 곱해준다\n",
        "\n",
        "$[2ln(r)\\frac{dU(r)}{dr}]'=-2ln(r)\\mathcal{F}_s[f(r,\\phi,\\theta)]$ \n",
        "\n",
        "이를 통해 U(r)을 구할 수 있고 역변환 시키면 솔루션을 구할 수 있다"
      ]
    },
    {
      "cell_type": "markdown",
      "metadata": {
        "id": "d2jfmJufbct4",
        "colab_type": "text"
      },
      "source": [
        "(b) $r,\\theta$ 극좌표계로 간단하게 유도하면\n",
        "\n",
        "$u(1,\\theta)=0$ 이라고 가정한다 $(0<r<1)$\n",
        "\n",
        "포텐셜 함수는 $\\frac{1}{2\\pi}ln\\frac{1}{R}$ 이다\n",
        "\n",
        "$u^*(r,\\theta)=\\frac{1}{2\\pi}ln\\frac{1}{R}-\\frac{1}{2\\pi}ln\\frac{1}{\\bar{R}}=\\frac{1}{2\\pi}ln\\frac{\\bar{R}}{R}$\n",
        "\n",
        "$(r=1)일때 u^*=-\\frac{1}{2\\pi}ln\\rho$\n",
        "\n",
        "따라서 $G(r,\\theta,\\rho,\\phi)=\\frac{1}{2\\pi}ln(\\rho\\frac{\\bar{R}}{R})$이다\n",
        "\n",
        "구면좌표계에서는 어떻게 해야하는지 잘 모르겠습니다"
      ]
    },
    {
      "cell_type": "code",
      "metadata": {
        "id": "9wt_VP_rkKgS",
        "colab_type": "code",
        "colab": {}
      },
      "source": [
        ""
      ],
      "execution_count": 0,
      "outputs": []
    }
  ]
}